{
 "cells": [
  {
   "cell_type": "code",
   "execution_count": 33,
   "id": "91ac6fee",
   "metadata": {},
   "outputs": [],
   "source": [
    "import pandas as pd\n",
    "\n",
    "# Set the random seed to get consistent results\n",
    "seed = 32\n",
    "\n",
    "columns_to_read = [\"rideable_type\",'start_station_name','end_station_name','started_at',\"member_casual\"] \n",
    "\n",
    "# Load the main dataframe \"df\" (replace 'your_file_path.csv' with the actual path to your CSV file)\n",
    "df = pd.read_csv(\"Combined_DataWeatherFinal.csv\",usecols=columns_to_read)\n",
    "\n",
    "\n",
    "sample_df = df.sample(frac=0.01, random_state=seed)\n",
    "\n",
    "# Save the sample dataframe as a new CSV file in the working folder\n",
    "sample_df.to_csv('Random32MainData.csv', index=False)\n"
   ]
  },
  {
   "cell_type": "code",
   "execution_count": 34,
   "id": "17232488",
   "metadata": {},
   "outputs": [
    {
     "data": {
      "text/html": [
       "<div>\n",
       "<style scoped>\n",
       "    .dataframe tbody tr th:only-of-type {\n",
       "        vertical-align: middle;\n",
       "    }\n",
       "\n",
       "    .dataframe tbody tr th {\n",
       "        vertical-align: top;\n",
       "    }\n",
       "\n",
       "    .dataframe thead th {\n",
       "        text-align: right;\n",
       "    }\n",
       "</style>\n",
       "<table border=\"1\" class=\"dataframe\">\n",
       "  <thead>\n",
       "    <tr style=\"text-align: right;\">\n",
       "      <th></th>\n",
       "      <th>rideable_type</th>\n",
       "      <th>started_at</th>\n",
       "      <th>start_station_name</th>\n",
       "      <th>end_station_name</th>\n",
       "      <th>member_casual</th>\n",
       "    </tr>\n",
       "  </thead>\n",
       "  <tbody>\n",
       "    <tr>\n",
       "      <th>3307086</th>\n",
       "      <td>classic_bike</td>\n",
       "      <td>2022-11-05 11:33:01</td>\n",
       "      <td>Marcy Ave &amp; Lafayette Ave</td>\n",
       "      <td>Marcy Ave &amp; Lafayette Ave</td>\n",
       "      <td>member</td>\n",
       "    </tr>\n",
       "    <tr>\n",
       "      <th>6807757</th>\n",
       "      <td>classic_bike</td>\n",
       "      <td>2022-08-04 09:22:03</td>\n",
       "      <td>Frederick Douglass Blvd &amp; W 117 St</td>\n",
       "      <td>5 Ave &amp; W 126 St</td>\n",
       "      <td>member</td>\n",
       "    </tr>\n",
       "  </tbody>\n",
       "</table>\n",
       "</div>"
      ],
      "text/plain": [
       "        rideable_type           started_at  \\\n",
       "3307086  classic_bike  2022-11-05 11:33:01   \n",
       "6807757  classic_bike  2022-08-04 09:22:03   \n",
       "\n",
       "                         start_station_name           end_station_name  \\\n",
       "3307086           Marcy Ave & Lafayette Ave  Marcy Ave & Lafayette Ave   \n",
       "6807757  Frederick Douglass Blvd & W 117 St           5 Ave & W 126 St   \n",
       "\n",
       "        member_casual  \n",
       "3307086        member  \n",
       "6807757        member  "
      ]
     },
     "execution_count": 34,
     "metadata": {},
     "output_type": "execute_result"
    }
   ],
   "source": [
    "sample_df.head(2)"
   ]
  },
  {
   "cell_type": "code",
   "execution_count": 35,
   "id": "fca100ce",
   "metadata": {},
   "outputs": [
    {
     "data": {
      "text/plain": [
       "(306899, 5)"
      ]
     },
     "execution_count": 35,
     "metadata": {},
     "output_type": "execute_result"
    }
   ],
   "source": [
    "sample_df.shape"
   ]
  }
 ],
 "metadata": {
  "kernelspec": {
   "display_name": "20th_century",
   "language": "python",
   "name": "20th_century"
  },
  "language_info": {
   "codemirror_mode": {
    "name": "ipython",
    "version": 3
   },
   "file_extension": ".py",
   "mimetype": "text/x-python",
   "name": "python",
   "nbconvert_exporter": "python",
   "pygments_lexer": "ipython3",
   "version": "3.10.11"
  }
 },
 "nbformat": 4,
 "nbformat_minor": 5
}
