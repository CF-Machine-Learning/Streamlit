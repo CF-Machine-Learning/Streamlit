{
 "cells": [
  {
   "cell_type": "code",
   "execution_count": 21,
   "id": "1ddbb8e7",
   "metadata": {},
   "outputs": [
    {
     "name": "stdout",
     "output_type": "stream",
     "text": [
      "    rideable_type          started_at             start_station_name  \\\n",
      "0    classic_bike 2022-01-27 14:21:01                5 Ave & E 63 St   \n",
      "1    classic_bike 2022-01-10 06:42:18             W 63 St & Broadway   \n",
      "2    classic_bike 2022-01-06 18:16:46             Broadway & W 29 St   \n",
      "3    classic_bike 2022-02-06 14:02:25                E 25 St & 2 Ave   \n",
      "4   electric_bike 2022-02-23 06:41:49            W 116 St & Broadway   \n",
      "5   electric_bike 2022-02-02 13:46:29                   3 St & 7 Ave   \n",
      "6   electric_bike 2022-03-12 14:42:39               W 43 St & 10 Ave   \n",
      "7   electric_bike 2022-03-28 17:21:29               W 20 St & 10 Ave   \n",
      "8   electric_bike 2022-03-27 11:05:13       Hancock St & Bedford Ave   \n",
      "9    classic_bike 2022-04-13 15:06:57          38 St & Northern Blvd   \n",
      "10   classic_bike 2022-04-23 10:40:25           William St & Pine St   \n",
      "11  electric_bike 2022-04-24 16:58:03                W 29 St & 9 Ave   \n",
      "12   classic_bike 2022-05-23 18:36:33      Clinton St & Joralemon St   \n",
      "13   classic_bike 2022-05-17 13:27:23                9 Ave & W 45 St   \n",
      "14   classic_bike 2022-05-06 07:34:05               W 4 St & 7 Ave S   \n",
      "15   classic_bike 2022-06-01 16:18:38                E 19 St & 3 Ave   \n",
      "16  electric_bike 2022-06-20 15:08:17        W 16 St & The High Line   \n",
      "17  electric_bike 2022-06-27 13:55:44         W 129 St & Convent Ave   \n",
      "18   classic_bike 2022-07-26 09:57:46       Stanton St & Chrystie St   \n",
      "19   classic_bike 2022-07-05 00:04:39                Ave A & E 11 St   \n",
      "20   classic_bike 2022-07-17 11:56:23            Broadway\\t& W 48 St   \n",
      "21   classic_bike 2022-08-10 02:35:03  Washington St & Gansevoort St   \n",
      "22   classic_bike 2022-08-05 19:59:35            Vernon Blvd & 10 St   \n",
      "23   classic_bike 2022-08-23 22:04:34               3 Ave & E 169 St   \n",
      "24   classic_bike 2022-09-28 14:47:23                E 40 St & 5 Ave   \n",
      "25  electric_bike 2022-09-26 05:40:10                 21 St & 21 Ave   \n",
      "26   classic_bike 2022-09-25 14:32:08          E 35 St & Madison Ave   \n",
      "27   classic_bike 2022-10-02 19:16:57       E Tremont Ave & E 176 St   \n",
      "28   classic_bike 2022-10-21 16:26:16       Albany St & Greenwich St   \n",
      "29  electric_bike 2022-10-24 17:40:59               W 30 St & 10 Ave   \n",
      "30   classic_bike 2022-11-10 14:48:35                W 45 St & 8 Ave   \n",
      "31  electric_bike 2022-11-02 20:28:51               11 Ave & W 41 St   \n",
      "32   classic_bike 2022-11-17 09:06:29            Driggs Ave & N 9 St   \n",
      "33   classic_bike 2022-12-27 21:44:24           Vernon Blvd & 50 Ave   \n",
      "34   classic_bike 2022-12-15 09:57:16        E 39 St & Lexington Ave   \n",
      "35   classic_bike 2022-12-13 16:15:54                E 97 St & 3 Ave   \n",
      "\n",
      "                   end_station_name member_casual  \n",
      "0         Cathedral Pkwy & Broadway        member  \n",
      "1             E 53 St & Madison Ave        member  \n",
      "2                   5 Ave & E 29 St        casual  \n",
      "3                   1 Ave & E 18 St        member  \n",
      "4            E 106 St & Madison Ave        casual  \n",
      "5   West Drive & Prospect Park West        casual  \n",
      "6           E 39 St & Lexington Ave        member  \n",
      "7           E 53 St & Lexington Ave        casual  \n",
      "8         Schermerhorn St & Bond St        member  \n",
      "9              Crescent St & 35 Ave        member  \n",
      "10            Spruce St & Nassau St        member  \n",
      "11                 11 Ave & W 59 St        casual  \n",
      "12             Henry St & Degraw St        member  \n",
      "13                  W 42 St & 6 Ave        member  \n",
      "14                 W 30 St & 10 Ave        member  \n",
      "15                 W 15 St & 10 Ave        member  \n",
      "16                  W 30 St & 8 Ave        member  \n",
      "17         Lexington Ave & E 111 St        casual  \n",
      "18            Broadway & Battery Pl        member  \n",
      "19          Suffolk St & Stanton St        casual  \n",
      "20            E 56 St & Madison Ave        casual  \n",
      "21                 W 4 St & 7 Ave S        casual  \n",
      "22                 Broadway & 12 St        member  \n",
      "23                 3 Ave & E 169 St        member  \n",
      "24                  E 58 St & 3 Ave        member  \n",
      "25                   21 St & 23 Ave        member  \n",
      "26                  E 43 St & 2 Ave        casual  \n",
      "27      Anthony Ave & E Tremont Ave        member  \n",
      "28           West End Ave & W 60 St        member  \n",
      "29              Broadway\\t& W 48 St        member  \n",
      "30         W 100 St & Manhattan Ave        member  \n",
      "31                  W 30 St & 8 Ave        member  \n",
      "32            Greene St & Prince St        member  \n",
      "33             Center Blvd & 51 Ave        member  \n",
      "34              Hudson St & W 13 St        member  \n",
      "35               E 40 St & Park Ave        member  \n"
     ]
    }
   ],
   "source": [
    "import pandas as pd\n",
    "import random\n",
    "\n",
    "\n",
    "columns_to_read = [\"rideable_type\",'start_station_name','end_station_name','started_at',\"member_casual\"]  # Replace with the actual column names\n",
    "\n",
    "main_data= pd.read_csv(\"Combined_DataWeatherFinal.csv\",usecols=columns_to_read)\n",
    "main_data['started_at'] = pd.to_datetime(main_data['started_at'])\n",
    "\n",
    "selected_records = pd.DataFrame()\n",
    "\n",
    "grouped_data = main_data.groupby(main_data['started_at'].dt.month)\n",
    "\n",
    "def select_random_records(group):\n",
    "    return group.sample(n=3, random_state=42)\n",
    "\n",
    "selected_records = grouped_data.apply(select_random_records)\n",
    "selected_records.reset_index(drop=True, inplace=True)\n",
    "print(selected_records)"
   ]
  },
  {
   "cell_type": "code",
   "execution_count": 22,
   "id": "529eacab",
   "metadata": {},
   "outputs": [
    {
     "data": {
      "text/html": [
       "<div>\n",
       "<style scoped>\n",
       "    .dataframe tbody tr th:only-of-type {\n",
       "        vertical-align: middle;\n",
       "    }\n",
       "\n",
       "    .dataframe tbody tr th {\n",
       "        vertical-align: top;\n",
       "    }\n",
       "\n",
       "    .dataframe thead th {\n",
       "        text-align: right;\n",
       "    }\n",
       "</style>\n",
       "<table border=\"1\" class=\"dataframe\">\n",
       "  <thead>\n",
       "    <tr style=\"text-align: right;\">\n",
       "      <th></th>\n",
       "      <th>rideable_type</th>\n",
       "      <th>started_at</th>\n",
       "      <th>start_station_name</th>\n",
       "      <th>end_station_name</th>\n",
       "      <th>member_casual</th>\n",
       "    </tr>\n",
       "  </thead>\n",
       "  <tbody>\n",
       "    <tr>\n",
       "      <th>0</th>\n",
       "      <td>classic_bike</td>\n",
       "      <td>2022-01-27 14:21:01</td>\n",
       "      <td>5 Ave &amp; E 63 St</td>\n",
       "      <td>Cathedral Pkwy &amp; Broadway</td>\n",
       "      <td>member</td>\n",
       "    </tr>\n",
       "    <tr>\n",
       "      <th>1</th>\n",
       "      <td>classic_bike</td>\n",
       "      <td>2022-01-10 06:42:18</td>\n",
       "      <td>W 63 St &amp; Broadway</td>\n",
       "      <td>E 53 St &amp; Madison Ave</td>\n",
       "      <td>member</td>\n",
       "    </tr>\n",
       "  </tbody>\n",
       "</table>\n",
       "</div>"
      ],
      "text/plain": [
       "  rideable_type          started_at  start_station_name  \\\n",
       "0  classic_bike 2022-01-27 14:21:01     5 Ave & E 63 St   \n",
       "1  classic_bike 2022-01-10 06:42:18  W 63 St & Broadway   \n",
       "\n",
       "            end_station_name member_casual  \n",
       "0  Cathedral Pkwy & Broadway        member  \n",
       "1      E 53 St & Madison Ave        member  "
      ]
     },
     "execution_count": 22,
     "metadata": {},
     "output_type": "execute_result"
    }
   ],
   "source": [
    "selected_records.head(2)"
   ]
  },
  {
   "cell_type": "code",
   "execution_count": 23,
   "id": "d08cc83b",
   "metadata": {},
   "outputs": [],
   "source": [
    "random_indices = selected_records.sample(n=4).index\n",
    "\n",
    "# Drop the rows with the selected indices\n",
    "selected_records.drop(random_indices, inplace=True)"
   ]
  },
  {
   "cell_type": "code",
   "execution_count": 24,
   "id": "e0027ddf",
   "metadata": {},
   "outputs": [
    {
     "data": {
      "text/plain": [
       "(32, 5)"
      ]
     },
     "execution_count": 24,
     "metadata": {},
     "output_type": "execute_result"
    }
   ],
   "source": [
    "selected_records.shape"
   ]
  },
  {
   "cell_type": "code",
   "execution_count": 25,
   "id": "b43ed979",
   "metadata": {},
   "outputs": [],
   "source": [
    "selected_records.to_csv(\"Random32MainData.csv\")"
   ]
  }
 ],
 "metadata": {
  "kernelspec": {
   "display_name": "20th_century",
   "language": "python",
   "name": "20th_century"
  },
  "language_info": {
   "codemirror_mode": {
    "name": "ipython",
    "version": 3
   },
   "file_extension": ".py",
   "mimetype": "text/x-python",
   "name": "python",
   "nbconvert_exporter": "python",
   "pygments_lexer": "ipython3",
   "version": "3.10.11"
  }
 },
 "nbformat": 4,
 "nbformat_minor": 5
}
